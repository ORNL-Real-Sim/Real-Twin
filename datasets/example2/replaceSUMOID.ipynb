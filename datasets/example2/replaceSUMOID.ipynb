{
 "cells": [
  {
   "cell_type": "code",
   "execution_count": null,
   "id": "a850e47c",
   "metadata": {},
   "outputs": [],
   "source": [
    "from lxml import etree\n",
    "import pandas as pd\n",
    "import re\n",
    "\n",
    "\n",
    "file_path = \"Nashville.net.xml\"  \n",
    "tree = etree.parse(file_path)\n",
    "root = tree.getroot()\n",
    "\n",
    "# Get all non-internal edge IDs\n",
    "sumoID_org = []\n",
    "for edge in root.findall(\"edge\"):\n",
    "    if edge.get(\"function\") != \"internal\":\n",
    "        sumoID_org.append(edge.get(\"id\"))\n",
    "\n",
    "# Build replacement lists\n",
    "oldedgeID = []\n",
    "newedgeID = []\n",
    "\n",
    "for eid in sumoID_org:\n",
    "    if not eid.startswith(\"-\"):\n",
    "        oldedgeID.append(eid)\n",
    "        new_id = \"-\" + eid\n",
    "        if new_id in sumoID_org:\n",
    "            new_id = \"-\" + new_id\n",
    "        newedgeID.append(new_id)\n",
    "\n",
    "edgeID_replacement = pd.DataFrame({\n",
    "    \"oldedgeID\": oldedgeID,\n",
    "    \"newedgeID\": newedgeID\n",
    "})\n",
    "\n",
    "with open(file_path, \"r\", encoding=\"utf-8\") as f:\n",
    "    original_text = f.read()\n",
    "\n",
    "# Perform replacements in the file content\n",
    "for _, row in edgeID_replacement.iterrows():\n",
    "    old_id = row[\"oldedgeID\"]\n",
    "    new_id = row[\"newedgeID\"]\n",
    "    original_text = re.sub(f'\"{old_id}\"', f'\"{new_id}\"', original_text)\n",
    "    original_text = re.sub(f'lane id=\"{old_id}_', f'lane id=\"{new_id}_', original_text)\n",
    "    original_text = re.sub(f' {old_id}_', f' {new_id}_', original_text)\n",
    "\n",
    "with open(file_path, \"w\", encoding=\"utf-8\") as f:\n",
    "    f.write(original_text)\n",
    "\n",
    "\n"
   ]
  },
  {
   "cell_type": "code",
   "execution_count": 7,
   "id": "6aa9bff4",
   "metadata": {},
   "outputs": [
    {
     "data": {
      "text/plain": [
       "0"
      ]
     },
     "execution_count": 7,
     "metadata": {},
     "output_type": "execute_result"
    }
   ],
   "source": [
    "import subprocess\n",
    "network_name = \"Nashville\"\n",
    "\n",
    "cmd = [\n",
    "    \"netconvert\",\n",
    "    \"-s\", f\"{network_name}.net.xml\",\n",
    "    \"--opendrive-output\", f\"{network_name}.xodr\",\n",
    "    \"--output.original-names\", \"true\",\n",
    "    \"--junctions.scurve-stretch\", \"1.0\"\n",
    "]\n",
    "process = subprocess.Popen(cmd, shell=True)\n",
    "process.wait()"
   ]
  }
 ],
 "metadata": {
  "kernelspec": {
   "display_name": "Python 3",
   "language": "python",
   "name": "python3"
  },
  "language_info": {
   "codemirror_mode": {
    "name": "ipython",
    "version": 3
   },
   "file_extension": ".py",
   "mimetype": "text/x-python",
   "name": "python",
   "nbconvert_exporter": "python",
   "pygments_lexer": "ipython3",
   "version": "3.9.13"
  }
 },
 "nbformat": 4,
 "nbformat_minor": 5
}
