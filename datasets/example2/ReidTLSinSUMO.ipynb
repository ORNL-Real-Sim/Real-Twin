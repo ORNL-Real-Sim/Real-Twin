{
 "cells": [
  {
   "cell_type": "code",
   "execution_count": null,
   "id": "0d864eac",
   "metadata": {},
   "outputs": [],
   "source": [
    "import pandas as pd\n",
    "import os\n",
    "import subprocess\n",
    "\n",
    "matchup_file_path = \"MatchupTable.xlsx\"\n",
    "MatchupTable_UserInput = pd.read_excel(matchup_file_path, skiprows=1, dtype=str)\n",
    "merged_columns = [\"JunctionID_OpenDrive\",\"File_GridSmart\",\"Date_GridSmart\",\"IntersectionName_GridSmart\",\"File_Synchro\",\"IntersectionID_Synchro\",\"Need calibration?\"]\n",
    "MatchupTable_UserInput[merged_columns] = MatchupTable_UserInput[merged_columns].ffill()\n",
    "\n",
    "network_path = \"Nashville.net.xml\"\n",
    "\n",
    "signalized_junction = MatchupTable_UserInput[\n",
    "    MatchupTable_UserInput['Turn_Synchro'].notna()\n",
    "]['JunctionID_OpenDrive'].unique()\n",
    "signalized_junction_string = \",\".join(signalized_junction.astype(str))\n",
    "\n",
    "cmd = f'cmd /c \"netconvert -s {network_path} --o {network_path} --tls.discard-loaded true --tls.set {signalized_junction_string }\"'\n",
    "process = subprocess.Popen(cmd, shell=True)\n",
    "process.wait()"
   ]
  }
 ],
 "metadata": {
  "language_info": {
   "name": "python"
  }
 },
 "nbformat": 4,
 "nbformat_minor": 5
}
