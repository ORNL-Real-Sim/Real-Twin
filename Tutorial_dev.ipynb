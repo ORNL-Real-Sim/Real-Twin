{
 "cells": [
  {
   "cell_type": "raw",
   "id": "0712dd94",
   "metadata": {},
   "source": [
    "##############################################################################\n",
    "# Copyright (c) 2024, Oak Ridge National Laboratory                          #\n",
    "# All rights reserved.                                                       #\n",
    "#                                                                            #\n",
    "# This file is part of RealTwin and is distributed under a GPL               #\n",
    "# license. For the licensing terms see the LICENSE file in the top-level     #\n",
    "# directory.                                                                 #\n",
    "#                                                                            #\n",
    "# Contributors: ORNL Real-Twin Team                                          #\n",
    "# Contact: realtwin@ornl.gov                                                 #\n",
    "##############################################################################"
   ]
  },
  {
   "cell_type": "markdown",
   "id": "ad37d0b4",
   "metadata": {},
   "source": [
    "## Please refer to our official documentation for more details on RealTwin preparation before running the simulation"
   ]
  },
  {
   "cell_type": "code",
   "execution_count": null,
   "id": "cfef3988",
   "metadata": {},
   "outputs": [],
   "source": [
    "import realtwin as rt"
   ]
  },
  {
   "cell_type": "code",
   "execution_count": null,
   "id": "c01d8552",
   "metadata": {},
   "outputs": [],
   "source": [
    "# Step 1: Prepare your configuration file (in YAML format)\n",
    "\n",
    "CONFIG_FILE = \"./realtwin_config.yaml\""
   ]
  },
  {
   "cell_type": "code",
   "execution_count": null,
   "id": "05d62b8e",
   "metadata": {},
   "outputs": [],
   "source": [
    "# In case you don't know where to get the template configuration file, you can create a template configuration file using code below\n",
    "\n",
    "# rt.prepare_config_file()"
   ]
  },
  {
   "cell_type": "code",
   "execution_count": null,
   "id": "c6ac9a4e",
   "metadata": {},
   "outputs": [],
   "source": [
    "# Step 2: initialize the realtwin object\n",
    "# In this step, realtwin package will load the configuration file and prepare global variables for future use.\n",
    "\n",
    "twin = rt.RealTwin(input_config_file=CONFIG_FILE, verbose=True)"
   ]
  },
  {
   "cell_type": "code",
   "execution_count": null,
   "id": "07bd1028",
   "metadata": {},
   "outputs": [],
   "source": [
    "# Step 3: check simulator env: if SUMO, VISSIM, Aimsun, etc... are installed\n",
    "\n",
    "# Check whether selected simulator installed on your operation system.\n",
    "# If not, install the simulator (for SUMO), print out message to let user know (for Other Simulator)\n",
    "# Currently accepted simulators are: SUMO, VISSIM, AIMSUN\n",
    "\n",
    "twin.env_setup(sel_sim=[\"SUMO\", \"VISSIM\"])"
   ]
  },
  {
   "cell_type": "code",
   "execution_count": null,
   "id": "803ab3cc",
   "metadata": {},
   "outputs": [],
   "source": [
    "# # Step 4: Create Matchup Table from SUMO network\n",
    "\n",
    "# twin.generate_inputs()"
   ]
  },
  {
   "cell_type": "code",
   "execution_count": null,
   "id": "511f046a",
   "metadata": {},
   "outputs": [],
   "source": [
    "# Step 4 (Warning!): if you have your updated / personal sumo network file (rather than downloaded from OpenStreetMap)\n",
    "\n",
    "updated_sumo_net = r\"./datasets/example2/updated.net.xml\"\n",
    "twin.generate_inputs(incl_sumo_net=updated_sumo_net)"
   ]
  },
  {
   "cell_type": "markdown",
   "id": "5d7fd478",
   "metadata": {},
   "source": [
    "### Before step 5, there are three steps to be performed:\n",
    "### 1. Prepare Traffic Demand and save it to Traffic Folder in input directory\n",
    "### 2. Prepare Control Data (Signal) and save it to Control Folder in input directory\n",
    "### 3. Manually fill in the Matchup Table in the input directory"
   ]
  },
  {
   "cell_type": "code",
   "execution_count": null,
   "id": "d2a89c1a",
   "metadata": {},
   "outputs": [],
   "source": [
    "# Step 5: generate abstract scenario\n",
    "\n",
    "# 1. Automatically fill in the Matchup Table from traffic and control\n",
    "# 2. Save the filled Matchup Table to the input directory\n",
    "# 3. Manually edit / fixed the Matchup Table if needed\n",
    "\n",
    "twin.generate_abstract_scenario()"
   ]
  },
  {
   "cell_type": "code",
   "execution_count": null,
   "id": "659ebd45",
   "metadata": {},
   "outputs": [],
   "source": [
    "# Step 6: generate scenarios\n",
    "\n",
    "twin.generate_concrete_scenario()"
   ]
  },
  {
   "cell_type": "code",
   "execution_count": null,
   "id": "75bade7e",
   "metadata": {},
   "outputs": [],
   "source": [
    "# Step 7: simulate the scenario\n",
    "\n",
    "twin.prepare_simulation()"
   ]
  },
  {
   "cell_type": "code",
   "execution_count": null,
   "id": "e4b127e2",
   "metadata": {},
   "outputs": [],
   "source": [
    "# Step 8: perform calibration, Available algorithms: GA: Genetic Algorithm, SA: Simulated Annealing, TS: Tabu Search\n",
    "twin.calibrate(sel_algo={\"turn_inflow\": \"GA\", \"behavior\": \"GA\"})"
   ]
  },
  {
   "cell_type": "code",
   "execution_count": null,
   "id": "74bd3ef7",
   "metadata": {},
   "outputs": [],
   "source": [
    " # Step 9 (ongoing): post-process the simulation results\n",
    "twin.post_process()  # keyword arguments can be passed to specify the post-processing options\n",
    "\n",
    "# Step 10 (ongoing): visualize the simulation results\n",
    "twin.visualize()  # keyword arguments can be passed to specify the visualization options"
   ]
  }
 ],
 "metadata": {
  "kernelspec": {
   "display_name": ".venv",
   "language": "python",
   "name": "python3"
  },
  "language_info": {
   "codemirror_mode": {
    "name": "ipython",
    "version": 3
   },
   "file_extension": ".py",
   "mimetype": "text/x-python",
   "name": "python",
   "nbconvert_exporter": "python",
   "pygments_lexer": "ipython3",
   "version": "3.11.9"
  }
 },
 "nbformat": 4,
 "nbformat_minor": 5
}
