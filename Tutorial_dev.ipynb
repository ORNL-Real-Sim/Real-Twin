{
 "cells": [
  {
   "cell_type": "raw",
   "id": "0712dd94",
   "metadata": {},
   "source": [
    "##############################################################################\n",
    "# Copyright (c) 2024, Oak Ridge National Laboratory                          #\n",
    "# All rights reserved.                                                       #\n",
    "#                                                                            #\n",
    "# This file is part of RealTwin and is distributed under a GPL               #\n",
    "# license. For the licensing terms see the LICENSE file in the top-level     #\n",
    "# directory.                                                                 #\n",
    "#                                                                            #\n",
    "# Contributors: ORNL Real-Twin Team                                          #\n",
    "# Contact: realtwin@ornl.gov                                                 #\n",
    "##############################################################################"
   ]
  },
  {
   "cell_type": "markdown",
   "id": "ad37d0b4",
   "metadata": {},
   "source": [
    "## Please refer to our official documentation for more details on RealTwin preparation before running the simulation"
   ]
  },
  {
   "cell_type": "code",
   "execution_count": 1,
   "id": "cfef3988",
   "metadata": {},
   "outputs": [],
   "source": [
    "import realtwin as rt"
   ]
  },
  {
   "cell_type": "code",
   "execution_count": 2,
   "id": "c01d8552",
   "metadata": {},
   "outputs": [],
   "source": [
    "# Step 1: Prepare your configuration file (in YAML format)\n",
    "\n",
    "CONFIG_FILE = \"./realtwin_config.yaml\""
   ]
  },
  {
   "cell_type": "code",
   "execution_count": 3,
   "id": "05d62b8e",
   "metadata": {},
   "outputs": [],
   "source": [
    "# In case you don't know where to get the template configuration file, you can create a template configuration file using code below\n",
    "\n",
    "# rt.prepare_config_file()"
   ]
  },
  {
   "cell_type": "code",
   "execution_count": 4,
   "id": "c6ac9a4e",
   "metadata": {},
   "outputs": [
    {
     "data": {
      "text/html": [
       "<pre style=\"white-space:pre;overflow-x:auto;line-height:normal;font-family:Menlo,'DejaVu Sans Mono',consolas,'Courier New',monospace\"><span style=\"color: #7fbfbf; text-decoration-color: #7fbfbf\">[14:03:19] </span>  :Coordinate order is ambiguous. Assuming <span style=\"font-weight: bold\">(</span>lon, lat<span style=\"font-weight: bold\">)</span> format.                        <a href=\"file://c:\\Users\\xh8\\ORNL_work\\github_workspace\\Real-Twin\\realtwin\\func_lib\\_b_load_inputs\\loader_config.py\" target=\"_blank\"><span style=\"color: #7f7f7f; text-decoration-color: #7f7f7f\">loader_config.py</span></a><span style=\"color: #7f7f7f; text-decoration-color: #7f7f7f\">:</span><a href=\"file://c:\\Users\\xh8\\ORNL_work\\github_workspace\\Real-Twin\\realtwin\\func_lib\\_b_load_inputs\\loader_config.py#97\" target=\"_blank\"><span style=\"color: #7f7f7f; text-decoration-color: #7f7f7f\">97</span></a>\n",
       "</pre>\n"
      ],
      "text/plain": [
       "\u001b[2;36m[14:03:19]\u001b[0m\u001b[2;36m \u001b[0m  :Coordinate order is ambiguous. Assuming \u001b[1m(\u001b[0mlon, lat\u001b[1m)\u001b[0m format.                        \u001b]8;id=861837;file://c:\\Users\\xh8\\ORNL_work\\github_workspace\\Real-Twin\\realtwin\\func_lib\\_b_load_inputs\\loader_config.py\u001b\\\u001b[2mloader_config.py\u001b[0m\u001b]8;;\u001b\\\u001b[2m:\u001b[0m\u001b]8;id=120905;file://c:\\Users\\xh8\\ORNL_work\\github_workspace\\Real-Twin\\realtwin\\func_lib\\_b_load_inputs\\loader_config.py#97\u001b\\\u001b[2m97\u001b[0m\u001b]8;;\u001b\\\n"
      ]
     },
     "metadata": {},
     "output_type": "display_data"
    }
   ],
   "source": [
    "# Step 2: initialize the realtwin object\n",
    "# In this step, realtwin package will load the configuration file and prepare global variables for future use.\n",
    "\n",
    "twin = rt.RealTwin(input_config_file=CONFIG_FILE, verbose=True)"
   ]
  },
  {
   "cell_type": "code",
   "execution_count": 5,
   "id": "07bd1028",
   "metadata": {},
   "outputs": [
    {
     "data": {
      "text/html": [
       "<pre style=\"white-space:pre;overflow-x:auto;line-height:normal;font-family:Menlo,'DejaVu Sans Mono',consolas,'Courier New',monospace\">\n",
       "<span style=\"color: #008000; text-decoration-color: #008000; font-weight: bold\">Check / Install the selected simulators:</span>\n",
       "</pre>\n"
      ],
      "text/plain": [
       "\n",
       "\u001b[1;32mCheck \u001b[0m\u001b[1;32m/\u001b[0m\u001b[1;32m Install the selected simulators:\u001b[0m\n"
      ]
     },
     "metadata": {},
     "output_type": "display_data"
    },
    {
     "name": "stdout",
     "output_type": "stream",
     "text": [
      "  :Checking SUMO installation on Windows.\n",
      "  :SUMO version: 1.21.0 found: C:/Program Files (x86)/Eclipse/Sumo/bin/sumo.exe\n",
      "  :SUMO is already installed, available versions: ['1.21.0']\n"
     ]
    },
    {
     "data": {
      "text/html": [
       "<pre style=\"white-space:pre;overflow-x:auto;line-height:normal;font-family:Menlo,'DejaVu Sans Mono',consolas,'Courier New',monospace\">  :<span style=\"color: #800080; text-decoration-color: #800080; font-weight: bold\">Could not install vissim (strict version) on your operation system</span></pre>\n"
      ],
      "text/plain": [
       "  :\u001b[1;35mCould not install vissim \u001b[0m\u001b[1;35m(\u001b[0m\u001b[1;35mstrict version\u001b[0m\u001b[1;35m)\u001b[0m\u001b[1;35m on your operation system\u001b[0m"
      ]
     },
     "metadata": {},
     "output_type": "display_data"
    },
    {
     "data": {
      "text/plain": [
       "\"  :Info: Selected simulators: ['sumo'] are installed successfully.\""
      ]
     },
     "execution_count": 5,
     "metadata": {},
     "output_type": "execute_result"
    }
   ],
   "source": [
    "# Step 3: check simulator env: if SUMO, VISSIM, Aimsun, etc... are installed\n",
    "\n",
    "# Check whether selected simulator installed on your operation system.\n",
    "# If not, install the simulator (for SUMO), print out message to let user know (for Other Simulator)\n",
    "# Currently accepted simulators are: SUMO, VISSIM, AIMSUN\n",
    "\n",
    "twin.env_setup(sel_sim=[\"SUMO\", \"VISSIM\"])"
   ]
  },
  {
   "cell_type": "code",
   "execution_count": null,
   "id": "803ab3cc",
   "metadata": {},
   "outputs": [],
   "source": [
    "# Step 4: Create Matchup Table from SUMO network\n",
    "\n",
    "twin.generate_inputs()"
   ]
  },
  {
   "cell_type": "code",
   "execution_count": null,
   "id": "511f046a",
   "metadata": {},
   "outputs": [
    {
     "data": {
      "text/html": [
       "<pre style=\"white-space:pre;overflow-x:auto;line-height:normal;font-family:Menlo,'DejaVu Sans Mono',consolas,'Courier New',monospace\">\n",
       "<span style=\"color: #008000; text-decoration-color: #008000; font-weight: bold\">Check / Create input files and folders for user:</span>\n",
       "</pre>\n"
      ],
      "text/plain": [
       "\n",
       "\u001b[1;32mCheck \u001b[0m\u001b[1;32m/\u001b[0m\u001b[1;32m Create input files and folders for user:\u001b[0m\n"
      ]
     },
     "metadata": {},
     "output_type": "display_data"
    },
    {
     "data": {
      "text/html": [
       "<pre style=\"white-space:pre;overflow-x:auto;line-height:normal;font-family:Menlo,'DejaVu Sans Mono',consolas,'Courier New',monospace\">  <span style=\"color: #7fbfbf; text-decoration-color: #7fbfbf\">:Control folder exists: c:/Users/xh8/ORNL_work/github_workspace/Real-Twin/datasets/example2/Control.</span>\n",
       "  :NOTICE: <span style=\"color: #800000; text-decoration-color: #800000; font-weight: bold\">Please include Synchro UTDF file (signal) inside Control folder</span>\n",
       "\n",
       "</pre>\n"
      ],
      "text/plain": [
       "  \u001b[2;36m:Control folder exists: c:\u001b[0m\u001b[2;36m/Users/xh8/ORNL_work/github_workspace/Real-Twin/datasets/example2/\u001b[0m\u001b[2;36mControl.\u001b[0m\n",
       "  :NOTICE: \u001b[1;31mPlease include Synchro UTDF file \u001b[0m\u001b[1;31m(\u001b[0m\u001b[1;31msignal\u001b[0m\u001b[1;31m)\u001b[0m\u001b[1;31m inside Control folder\u001b[0m\n",
       "\n"
      ]
     },
     "metadata": {},
     "output_type": "display_data"
    },
    {
     "data": {
      "text/html": [
       "<pre style=\"white-space:pre;overflow-x:auto;line-height:normal;font-family:Menlo,'DejaVu Sans Mono',consolas,'Courier New',monospace\">  <span style=\"color: #7fbfbf; text-decoration-color: #7fbfbf\">:Traffic folder exists: c:/Users/xh8/ORNL_work/github_workspace/Real-Twin/datasets/example2/Traffic.</span>\n",
       "  :NOTICE: <span style=\"color: #800000; text-decoration-color: #800000; font-weight: bold\">Please include turn movement file for each intersection inside Traffic folder and add the file names to the MatchupTable.xlsx (You will notice the generated MatchupTable.xlsx inside your input folder). For how to fill the MatchupTable.xlsx, please refer to official documentation</span>\n",
       "\n",
       "</pre>\n"
      ],
      "text/plain": [
       "  \u001b[2;36m:Traffic folder exists: c:\u001b[0m\u001b[2;36m/Users/xh8/ORNL_work/github_workspace/Real-Twin/datasets/example2/\u001b[0m\u001b[2;36mTraffic.\u001b[0m\n",
       "  :NOTICE: \u001b[1;31mPlease include turn movement file for each intersection inside Traffic folder and add the file names to the MatchupTable.xlsx \u001b[0m\u001b[1;31m(\u001b[0m\u001b[1;31mYou will notice the generated MatchupTable.xlsx inside your input folder\u001b[0m\u001b[1;31m)\u001b[0m\u001b[1;31m. For how to fill the MatchupTable.xlsx, please refer to official documentation\u001b[0m\n",
       "\n"
      ]
     },
     "metadata": {},
     "output_type": "display_data"
    },
    {
     "data": {
      "text/html": [
       "<pre style=\"white-space:pre;overflow-x:auto;line-height:normal;font-family:Menlo,'DejaVu Sans Mono',consolas,'Courier New',monospace\">  <span style=\"color: #7fbfbf; text-decoration-color: #7fbfbf\">:INFO: You can use your own SUMO network by providing the path to the incl_sumo_net parameter. The path should be</span>\n",
       "<span style=\"color: #7fbfbf; text-decoration-color: #7fbfbf\">a .net.xml file. </span>\n",
       "</pre>\n"
      ],
      "text/plain": [
       "  \u001b[2;36m:INFO: You can use your own SUMO network by providing the path to the incl_sumo_net parameter. The path should be\u001b[0m\n",
       "\u001b[2;36ma .net.xml file. \u001b[0m\n"
      ]
     },
     "metadata": {},
     "output_type": "display_data"
    },
    {
     "data": {
      "application/vnd.jupyter.widget-view+json": {
       "model_id": "e38c422dbeff476382825306ff1a4e70",
       "version_major": 2,
       "version_minor": 0
      },
      "text/plain": [
       "Output()"
      ]
     },
     "metadata": {},
     "output_type": "display_data"
    },
    {
     "data": {
      "text/html": [
       "<pre style=\"white-space:pre;overflow-x:auto;line-height:normal;font-family:Menlo,'DejaVu Sans Mono',consolas,'Courier New',monospace\">  :INFO: OpenDrive network is generated.\n",
       "</pre>\n"
      ],
      "text/plain": [
       "  :INFO: OpenDrive network is generated.\n"
      ]
     },
     "metadata": {},
     "output_type": "display_data"
    },
    {
     "data": {
      "text/html": [
       "<pre style=\"white-space:pre;overflow-x:auto;line-height:normal;font-family:Menlo,'DejaVu Sans Mono',consolas,'Courier New',monospace\">  <span style=\"color: #7fbfbf; text-decoration-color: #7fbfbf\">:NOTE: Matchup table is generated and saved to c:/Users/xh8/ORNL_work/github_workspace/Real-Twin/datasets/example2/MatchupTable.xlsx.</span>\n",
       "  :NOTICE: <span style=\"color: #800000; text-decoration-color: #800000; font-weight: bold\">Please update the Matchup table from input folder and then run generate_abstract_scenario(). For details please refer to official documentation:</span>\n",
       "\n",
       "</pre>\n"
      ],
      "text/plain": [
       "  \u001b[2;36m:NOTE: Matchup table is generated and saved to c:\u001b[0m\u001b[2;36m/Users/xh8/ORNL_work/github_workspace/Real-Twin/datasets/example2/\u001b[0m\u001b[2;36mMatchupTable.xlsx.\u001b[0m\n",
       "  :NOTICE: \u001b[1;31mPlease update the Matchup table from input folder and then run \u001b[0m\u001b[1;31mgenerate_abstract_scenario\u001b[0m\u001b[1;31m(\u001b[0m\u001b[1;31m)\u001b[0m\u001b[1;31m. For details please refer to official documentation:\u001b[0m\n",
       "\n"
      ]
     },
     "metadata": {},
     "output_type": "display_data"
    },
    {
     "data": {
      "text/html": [
       "<pre style=\"white-space:pre;overflow-x:auto;line-height:normal;font-family:Menlo,'DejaVu Sans Mono',consolas,'Courier New',monospace\"><span style=\"color: #00ff00; text-decoration-color: #00ff00\">─ </span><span style=\"color: #008000; text-decoration-color: #008000; font-weight: bold\">Program stopped. Please prepare the Control and Traffic data and fill in the Matchup Table before proceeding. </span><span style=\"color: #800000; text-decoration-color: #800000; font-weight: bold\">…</span><span style=\"color: #00ff00; text-decoration-color: #00ff00\"> ─</span>\n",
       "</pre>\n"
      ],
      "text/plain": [
       "\u001b[92m─ \u001b[0m\u001b[1;32mProgram stopped. Please prepare the Control and Traffic data and fill in the Matchup Table before proceeding. \u001b[0m\u001b[1;31m…\u001b[0m\u001b[92m ─\u001b[0m\n"
      ]
     },
     "metadata": {},
     "output_type": "display_data"
    },
    {
     "data": {
      "text/html": [
       "<pre style=\"white-space:pre;overflow-x:auto;line-height:normal;font-family:Menlo,'DejaVu Sans Mono',consolas,'Courier New',monospace\">⚠ <span style=\"color: #800080; text-decoration-color: #800080; font-weight: bold\">Please update the generated Matchup table from input folder before pressing Enter or type </span><span style=\"color: #800080; text-decoration-color: #800080; font-weight: bold\">'y'</span><span style=\"color: #800080; text-decoration-color: #800080; font-weight: bold\"> / </span><span style=\"color: #800080; text-decoration-color: #800080; font-weight: bold\">'yes'</span><span style=\"color: #800080; text-decoration-color: #800080; font-weight: bold\"> to continue</span></pre>\n"
      ],
      "text/plain": [
       "⚠ \u001b[1;35mPlease update the generated Matchup table from input folder before pressing Enter or type \u001b[0m\u001b[1;35m'y'\u001b[0m\u001b[1;35m \u001b[0m\u001b[1;35m/\u001b[0m\u001b[1;35m \u001b[0m\u001b[1;35m'yes'\u001b[0m\u001b[1;35m to continue\u001b[0m"
      ]
     },
     "metadata": {},
     "output_type": "display_data"
    },
    {
     "data": {
      "text/html": [
       "<pre style=\"white-space:pre;overflow-x:auto;line-height:normal;font-family:Menlo,'DejaVu Sans Mono',consolas,'Courier New',monospace\">  <span style=\"color: #7fbfbf; text-decoration-color: #7fbfbf\">:INFO: User confirmed to continue </span><span style=\"color: #7fbfbf; text-decoration-color: #7fbfbf; font-weight: bold\">(</span><span style=\"color: #7fbfbf; text-decoration-color: #7fbfbf\">Matchup Table Updated</span><span style=\"color: #7fbfbf; text-decoration-color: #7fbfbf; font-weight: bold\">)</span><span style=\"color: #7fbfbf; text-decoration-color: #7fbfbf\">.</span>\n",
       "</pre>\n"
      ],
      "text/plain": [
       "  \u001b[2;36m:INFO: User confirmed to continue \u001b[0m\u001b[1;2;36m(\u001b[0m\u001b[2;36mMatchup Table Updated\u001b[0m\u001b[1;2;36m)\u001b[0m\u001b[2;36m.\u001b[0m\n"
      ]
     },
     "metadata": {},
     "output_type": "display_data"
    },
    {
     "data": {
      "text/html": [
       "<pre style=\"white-space:pre;overflow-x:auto;line-height:normal;font-family:Menlo,'DejaVu Sans Mono',consolas,'Courier New',monospace\"></pre>\n"
      ],
      "text/plain": []
     },
     "metadata": {},
     "output_type": "display_data"
    },
    {
     "data": {
      "text/plain": [
       "'  :Info: Please prepare the Control and Traffic data and save them to the input directory. Please also fill in the Matchup Table at c:/Users/xh8/ORNL_work/github_workspace/Real-Twin/datasets/example2/MatchupTable.xlsx.\\n'"
      ]
     },
     "execution_count": 6,
     "metadata": {},
     "output_type": "execute_result"
    }
   ],
   "source": [
    "# Step 4 (Warning!): if you have your updated / personal sumo network file (rather than downloaded from OpenStreetMap)\n",
    "\n",
    "updated_sumo_net = r\"./datasets/example2/updated.net.xml\"\n",
    "twin.generate_inputs(incl_sumo_net=None)"
   ]
  },
  {
   "cell_type": "markdown",
   "id": "5d7fd478",
   "metadata": {},
   "source": [
    "### Before step 5, there are three steps to be performed:\n",
    "### 1. Prepare Traffic Demand and save it to Traffic Folder in input directory\n",
    "### 2. Prepare Control Data (Signal) and save it to Control Folder in input directory\n",
    "### 3. Manually fill in the Matchup Table in the input directory"
   ]
  },
  {
   "cell_type": "code",
   "execution_count": 8,
   "id": "d2a89c1a",
   "metadata": {},
   "outputs": [
    {
     "name": "stdout",
     "output_type": "stream",
     "text": [
      "  :There are more turning movements in Shallowford+I75N_07112023.xls than OpenDrive junction: 8.\n",
      "  :There are more turning movements in Shallowford+I75S_07112023.xls than OpenDrive junction: 9.\n",
      "  :There are more turning movements in Shallowford+I75S_07112023.xls than OpenDrive junction: 9.\n",
      "  :There are more turning movements in Shallowford+I75S_07112023.xls than OpenDrive junction: 9.\n",
      "  :There are more turning movements in Shallowford+I75S_07112023.xls than OpenDrive junction: 9.\n",
      "  :There are more turning movements in Synchro_signal.csv than OpenDrive junction 8.\n",
      "  :There are more turning movements in Synchro_signal.csv than OpenDrive junction 9.\n"
     ]
    },
    {
     "data": {
      "text/html": [
       "<pre style=\"white-space:pre;overflow-x:auto;line-height:normal;font-family:Menlo,'DejaVu Sans Mono',consolas,'Courier New',monospace\">⚠ <span style=\"color: #800080; text-decoration-color: #800080; font-weight: bold\">In the Matchup Table, please check if the turn movement in the demand and control data match with bearings in the</span>\n",
       "<span style=\"color: #800080; text-decoration-color: #800080; font-weight: bold\">network data. Enter any key to continue...</span></pre>\n"
      ],
      "text/plain": [
       "⚠ \u001b[1;35mIn the Matchup Table, please check if the turn movement in the demand and control data match with bearings in the\u001b[0m\n",
       "\u001b[1;35mnetwork data. Enter any key to continue\u001b[0m\u001b[1;35m...\u001b[0m"
      ]
     },
     "metadata": {},
     "output_type": "display_data"
    },
    {
     "data": {
      "text/html": [
       "<pre style=\"white-space:pre;overflow-x:auto;line-height:normal;font-family:Menlo,'DejaVu Sans Mono',consolas,'Courier New',monospace\">\n",
       "<span style=\"color: #008000; text-decoration-color: #008000; font-weight: bold\">Abstract Scenario successfully generated.</span>\n",
       "</pre>\n"
      ],
      "text/plain": [
       "\n",
       "\u001b[1;32mAbstract Scenario successfully generated.\u001b[0m\n"
      ]
     },
     "metadata": {},
     "output_type": "display_data"
    }
   ],
   "source": [
    "# Step 5: generate abstract scenario\n",
    "\n",
    "# 1. Automatically fill in the Matchup Table from traffic and control\n",
    "# 2. Save the filled Matchup Table to the input directory\n",
    "# 3. Manually edit / fixed the Matchup Table if needed\n",
    "\n",
    "twin.generate_abstract_scenario()"
   ]
  },
  {
   "cell_type": "code",
   "execution_count": 9,
   "id": "659ebd45",
   "metadata": {},
   "outputs": [
    {
     "data": {
      "text/html": [
       "<pre style=\"white-space:pre;overflow-x:auto;line-height:normal;font-family:Menlo,'DejaVu Sans Mono',consolas,'Courier New',monospace\">\n",
       "<span style=\"color: #008000; text-decoration-color: #008000; font-weight: bold\">Concrete Scenario successfully generated.</span>\n",
       "</pre>\n"
      ],
      "text/plain": [
       "\n",
       "\u001b[1;32mConcrete Scenario successfully generated.\u001b[0m\n"
      ]
     },
     "metadata": {},
     "output_type": "display_data"
    }
   ],
   "source": [
    "# Step 6: generate scenarios\n",
    "\n",
    "twin.generate_concrete_scenario()"
   ]
  },
  {
   "cell_type": "code",
   "execution_count": 10,
   "id": "75bade7e",
   "metadata": {},
   "outputs": [
    {
     "name": "stdout",
     "output_type": "stream",
     "text": [
      "  :There is mismatch between SUMO turn and Synchro turn for Synchro junction 11\n",
      "  :SUMO signal updated at: c:/Users/xh8/ornl_work/github_workspace/Real-Twin-Dev/datasets/input_dir_dummy/output/SUMO/chatt.net.xml\n"
     ]
    },
    {
     "data": {
      "text/html": [
       "<pre style=\"white-space:pre;overflow-x:auto;line-height:normal;font-family:Menlo,'DejaVu Sans Mono',consolas,'Courier New',monospace\">\n",
       "<span style=\"color: #008000; text-decoration-color: #008000; font-weight: bold\">SUMO simulation successfully Prepared.</span>\n",
       "</pre>\n"
      ],
      "text/plain": [
       "\n",
       "\u001b[1;32mSUMO simulation successfully Prepared.\u001b[0m\n"
      ]
     },
     "metadata": {},
     "output_type": "display_data"
    },
    {
     "data": {
      "text/plain": [
       "True"
      ]
     },
     "execution_count": 10,
     "metadata": {},
     "output_type": "execute_result"
    }
   ],
   "source": [
    "# Step 7: simulate the scenario\n",
    "\n",
    "twin.prepare_simulation()"
   ]
  },
  {
   "cell_type": "code",
   "execution_count": null,
   "id": "e4b127e2",
   "metadata": {},
   "outputs": [],
   "source": [
    "# Step 8: perform calibration, Available algorithms: GA: Genetic Algorithm, SA: Simulated Annealing, TS: Tabu Search\n",
    "twin.calibrate(sel_algo={\"turn_inflow\": \"GA\", \"behavior\": \"GA\"})"
   ]
  },
  {
   "cell_type": "code",
   "execution_count": null,
   "id": "74bd3ef7",
   "metadata": {},
   "outputs": [],
   "source": [
    " # Step 9 (ongoing): post-process the simulation results\n",
    "twin.post_process()  # keyword arguments can be passed to specify the post-processing options\n",
    "\n",
    "# Step 10 (ongoing): visualize the simulation results\n",
    "twin.visualize()  # keyword arguments can be passed to specify the visualization options"
   ]
  }
 ],
 "metadata": {
  "kernelspec": {
   "display_name": "realtwin",
   "language": "python",
   "name": "python3"
  },
  "language_info": {
   "codemirror_mode": {
    "name": "ipython",
    "version": 3
   },
   "file_extension": ".py",
   "mimetype": "text/x-python",
   "name": "python",
   "nbconvert_exporter": "python",
   "pygments_lexer": "ipython3",
   "version": "3.13.1"
  }
 },
 "nbformat": 4,
 "nbformat_minor": 5
}
