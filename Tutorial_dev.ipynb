{
 "cells": [
  {
   "cell_type": "raw",
   "id": "0712dd94",
   "metadata": {},
   "source": [
    "##############################################################################\n",
    "# Copyright (c) 2024, Oak Ridge National Laboratory                          #\n",
    "# All rights reserved.                                                       #\n",
    "#                                                                            #\n",
    "# This file is part of RealTwin and is distributed under a __TBD__           #\n",
    "# license. For the licensing terms see the LICENSE file in the top-level     #\n",
    "# directory.                                                                 #\n",
    "#                                                                            #\n",
    "# Contributors: ORNL Real-Twin Team                                          #\n",
    "# Contact: realtwin@ornl.gov                                                 #\n",
    "##############################################################################"
   ]
  },
  {
   "cell_type": "markdown",
   "id": "ad37d0b4",
   "metadata": {},
   "source": [
    "## Please refer to our official documentation for more details on RealTwin preparation before running the simulation"
   ]
  },
  {
   "cell_type": "code",
   "execution_count": 1,
   "id": "cfef3988",
   "metadata": {},
   "outputs": [],
   "source": [
    "import realtwin as rt"
   ]
  },
  {
   "cell_type": "code",
   "execution_count": 2,
   "id": "c01d8552",
   "metadata": {},
   "outputs": [],
   "source": [
    "# Step 1: Prepare your configuration file (in YAML format)\n",
    "\n",
    "CONFIG_FILE = \"./realtwin_config.yaml\""
   ]
  },
  {
   "cell_type": "code",
   "execution_count": 3,
   "id": "05d62b8e",
   "metadata": {},
   "outputs": [],
   "source": [
    "# In case you don't know where to get the template configuration file, you can create a template configuration file using code below\n",
    "\n",
    "# rt.prepare_config_file()"
   ]
  },
  {
   "cell_type": "code",
   "execution_count": 5,
   "id": "c6ac9a4e",
   "metadata": {},
   "outputs": [],
   "source": [
    "# Step 2: initialize the realtwin object\n",
    "# In this step, realtwin package will load the configuration file and prepare global variables for future use.\n",
    "\n",
    "twin = rt.RealTwin(input_config_file=CONFIG_FILE, verbose=True)"
   ]
  },
  {
   "cell_type": "code",
   "execution_count": 6,
   "id": "07bd1028",
   "metadata": {},
   "outputs": [
    {
     "name": "stdout",
     "output_type": "stream",
     "text": [
      "\n",
      "Check / install the selected simulators:\n",
      "  :Checking SUMO installation on Windows.\n",
      "  :SUMO version: 1.21.0 found: C:/Program Files (x86)/Eclipse/Sumo/bin/sumo.exe\n",
      "  :SUMO is already installed, available versions: ['1.21.0']\n",
      "\n",
      "  :Could not install vissim (strict version) on your operation system\n"
     ]
    },
    {
     "data": {
      "text/plain": [
       "True"
      ]
     },
     "execution_count": 6,
     "metadata": {},
     "output_type": "execute_result"
    }
   ],
   "source": [
    "# Step 3: check simulator env: if SUMO, VISSIM, Aimsun, etc... are installed\n",
    "\n",
    "# Check whether selected simulator installed on your operation system.\n",
    "# If not, install the simulator (for SUMO), print out message to let user know (for Other Simulator)\n",
    "# Currently accepted simulators are: SUMO, VISSIM, AIMSUN\n",
    "\n",
    "twin.env_setup(sel_sim=[\"SUMO\", \"VISSIM\"])"
   ]
  },
  {
   "cell_type": "code",
   "execution_count": 7,
   "id": "803ab3cc",
   "metadata": {},
   "outputs": [],
   "source": [
    "# Step 4: Create Matchup Table from SUMO network\n",
    "\n",
    "# This step will generate MatchupTable.xlsx based on SUMO network (vertices from input configuration file)\n",
    "# twin.generate_inputs(incl_sumo_net=None)"
   ]
  },
  {
   "cell_type": "code",
   "execution_count": 8,
   "id": "511f046a",
   "metadata": {},
   "outputs": [
    {
     "name": "stdout",
     "output_type": "stream",
     "text": [
      "\n",
      "Check / Create input files and folders for user:\n",
      "  :Control folder exists: c:/Users/xh8/ornl_work/github_workspace/Real-Twin-Dev/datasets/chattanooga/Control.\n",
      "  :NOTICE: Please include Synchro UTDF file (signal) inside Control folder \n",
      "\n",
      "  :Traffic folder exists: c:/Users/xh8/ornl_work/github_workspace/Real-Twin-Dev/datasets/chattanooga/Traffic.\n",
      "  :NOTICE: Please include turn movement file for each intersection inside Traffic folder and add the file names to the MatchupTable.xlsx (You will notice the generated MatchupTable.xlsx inside your input folder). For how to fill the MatchupTable.xlsx, please refer to the documentation: \n",
      "\n",
      "  :INFO: OpenDrive network is generated.\n",
      "  :INFO: SUMO network is copied to c:/Users/xh8/ornl_work/github_workspace/Real-Twin-Dev/datasets/chattanooga/output/OpenDrive/chatt.net.xml.\n",
      "  :Using updated SUMO network provide by user: c:/Users/xh8/ornl_work/github_workspace/Real-Twin-Dev/datasets/chattanooga/updated_net/chatt.net.xml to generate OpenDrive network.\n",
      "  :INFO: OpenDrive network is generated.\n",
      "  :NOTE: Matchup table is generated and saved to c:/Users/xh8/ornl_work/github_workspace/Real-Twin-Dev/datasets/chattanooga/MatchupTable.xlsx.\n",
      "  :NOTICE: Please update the Matchup table from input folder and then run generate_abstract_scenario(). For details please refer to official documentation: \n",
      "\n",
      "  :INFO: User confirmed to continue after updating Matchup Table.\n"
     ]
    }
   ],
   "source": [
    "# Step 4: Create Matchup Table from SUMO network (Optional)\n",
    "\n",
    "# if you have your updated / personal sumo network file (rather than downloaded from OpenStreetMap)\n",
    "updated_sumo_net = r\"./datasets/chattanooga/updated_net/chatt.net.xml\"\n",
    "twin.generate_inputs(incl_sumo_net=updated_sumo_net)"
   ]
  },
  {
   "cell_type": "markdown",
   "id": "5d7fd478",
   "metadata": {},
   "source": [
    "### Before step 5, there are three steps to be performed:\n",
    "### 1. Prepare Traffic Demand and save it to Traffic Folder in input directory\n",
    "### 2. Prepare Control Data (Signal) and save it to Control Folder in input directory\n",
    "### 3. Manually fill in the Matchup Table in the input directory"
   ]
  },
  {
   "cell_type": "code",
   "execution_count": null,
   "id": "d2a89c1a",
   "metadata": {},
   "outputs": [],
   "source": [
    "# Step 5: generate abstract scenario\n",
    "\n",
    "# 1. Automatically fill in the Matchup Table from traffic and control\n",
    "# 2. Save the filled Matchup Table to the input directory\n",
    "# 3. Manually edit / fixed the Matchup Table if needed\n",
    "\n",
    "twin.generate_abstract_scenario()"
   ]
  },
  {
   "cell_type": "code",
   "execution_count": null,
   "id": "659ebd45",
   "metadata": {},
   "outputs": [],
   "source": [
    "# Step 6: generate scenarios\n",
    "\n",
    "twin.generate_concrete_scenario()"
   ]
  },
  {
   "cell_type": "code",
   "execution_count": null,
   "id": "75bade7e",
   "metadata": {},
   "outputs": [],
   "source": [
    "# Step 7: simulate the scenario\n",
    "\n",
    "twin.prepare_simulation()"
   ]
  },
  {
   "cell_type": "code",
   "execution_count": null,
   "id": "e4b127e2",
   "metadata": {},
   "outputs": [],
   "source": [
    "# Step 8: perform calibration, Available algorithms: GA: Genetic Algorithm, SA: Simulated Annealing, TS: Tabu Search\n",
    "\n",
    "sel_behavior_routes = {\n",
    "    \"route_1\": {\"time\": 240,\n",
    "                \"edge_list\": [\"-312\", \"-293\", \"-297\", \"-288\", \"-2881\", \"-286\", \"-302\",\n",
    "                              \"-3221\", \"-322\", \"-313\", \"-284\", \"-2841\", \"-328\", \"-304\"]},\n",
    "    \"route_2\": {\"time\": 180,\n",
    "                \"edge_list\": [\"-2801\", \"-280\", \"-307\", \"-327\", \"3271\", \"-281\", \"-315\", \"3151\",\n",
    "                              \"-321\", \"-300\", \"-2851\", \"-285\", \"-290\", \"-298\", \"-295\"]}}\n",
    "\n",
    "twin.calibrate(sel_algo={\"turn_inflow\": \"GA\", \"behavior\": \"GA\"})"
   ]
  },
  {
   "cell_type": "code",
   "execution_count": null,
   "id": "74bd3ef7",
   "metadata": {},
   "outputs": [],
   "source": [
    " # Step 9 (ongoing): post-process the simulation results\n",
    "twin.post_process()  # keyword arguments can be passed to specify the post-processing options\n",
    "\n",
    "# Step 10 (ongoing): visualize the simulation results\n",
    "twin.visualize()  # keyword arguments can be passed to specify the visualization options"
   ]
  },
  {
   "cell_type": "code",
   "execution_count": null,
   "id": "317a4089",
   "metadata": {},
   "outputs": [],
   "source": []
  }
 ],
 "metadata": {
  "kernelspec": {
   "display_name": "realtwin",
   "language": "python",
   "name": "python3"
  },
  "language_info": {
   "codemirror_mode": {
    "name": "ipython",
    "version": 3
   },
   "file_extension": ".py",
   "mimetype": "text/x-python",
   "name": "python",
   "nbconvert_exporter": "python",
   "pygments_lexer": "ipython3",
   "version": "3.13.1"
  }
 },
 "nbformat": 4,
 "nbformat_minor": 5
}
